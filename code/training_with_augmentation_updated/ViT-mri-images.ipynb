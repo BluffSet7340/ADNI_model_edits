{
 "cells": [
  {
   "cell_type": "code",
   "execution_count": 13,
   "metadata": {
    "execution": {
     "iopub.execute_input": "2025-04-20T10:15:03.072352Z",
     "iopub.status.busy": "2025-04-20T10:15:03.072022Z",
     "iopub.status.idle": "2025-04-20T10:15:03.077189Z",
     "shell.execute_reply": "2025-04-20T10:15:03.076442Z",
     "shell.execute_reply.started": "2025-04-20T10:15:03.072327Z"
    },
    "trusted": true
   },
   "outputs": [],
   "source": [
    "import os\n",
    "import numpy as np\n",
    "import torch\n",
    "import torchvision\n",
    "import torch.nn as nn\n",
    "import torch.optim as optim\n",
    "from torchvision import transforms, datasets\n",
    "from sklearn.model_selection import KFold\n",
    "import matplotlib.pyplot as plt\n",
    "from tqdm import tqdm  \n",
    "from torchvision.models import alexnet, AlexNet_Weights\n",
    "from torch.optim.lr_scheduler import ReduceLROnPlateau\n",
    "from collections import Counter\n",
    "from torch.optim.lr_scheduler import StepLR\n",
    "from torch.utils.data import DataLoader\n",
    "from torchvision.models import vit_b_16, ViT_B_16_Weights\n",
    "from sklearn.metrics import classification_report, confusion_matrix\n",
    "import pandas as pd"
   ]
  },
  {
   "cell_type": "markdown",
   "metadata": {},
   "source": [
    "Dataset Processing and Parameters"
   ]
  },
  {
   "cell_type": "code",
   "execution_count": 14,
   "metadata": {
    "execution": {
     "iopub.execute_input": "2025-04-20T10:15:03.169482Z",
     "iopub.status.busy": "2025-04-20T10:15:03.169222Z",
     "iopub.status.idle": "2025-04-20T10:15:03.173494Z",
     "shell.execute_reply": "2025-04-20T10:15:03.172584Z",
     "shell.execute_reply.started": "2025-04-20T10:15:03.169459Z"
    },
    "trusted": true
   },
   "outputs": [],
   "source": [
    "data_dir = \"/kaggle/input/t1-augmented-testcases-removed/T1_augmented_hflip - Test Cases Removed\"\n",
    "batch_size = 16\n",
    "num_epochs = 30\n",
    "learning_rate = 0.0001  # Learning rate parameter\n"
   ]
  },
  {
   "cell_type": "code",
   "execution_count": 15,
   "metadata": {
    "execution": {
     "iopub.execute_input": "2025-04-20T10:15:03.174954Z",
     "iopub.status.busy": "2025-04-20T10:15:03.174635Z",
     "iopub.status.idle": "2025-04-20T10:15:03.189380Z",
     "shell.execute_reply": "2025-04-20T10:15:03.188679Z",
     "shell.execute_reply.started": "2025-04-20T10:15:03.174923Z"
    },
    "trusted": true
   },
   "outputs": [],
   "source": [
    "device = torch.device(\"cuda\" if torch.cuda.is_available() else \"cpu\")"
   ]
  },
  {
   "cell_type": "code",
   "execution_count": 16,
   "metadata": {
    "execution": {
     "iopub.execute_input": "2025-04-20T10:15:03.235441Z",
     "iopub.status.busy": "2025-04-20T10:15:03.235198Z",
     "iopub.status.idle": "2025-04-20T10:15:03.240394Z",
     "shell.execute_reply": "2025-04-20T10:15:03.239553Z",
     "shell.execute_reply.started": "2025-04-20T10:15:03.235420Z"
    },
    "trusted": true
   },
   "outputs": [],
   "source": [
    "# Transformations: replicate grayscale channels to match ResNet18's input requirements (3 channels)\n",
    "transform = transforms.Compose([\n",
    "    transforms.Grayscale(num_output_channels=3),  # Convert grayscale to 3 channels\n",
    "    transforms.Resize((224, 224)),               # Resize to ResNet18 input size\n",
    "    transforms.ToTensor(),                       # Convert to tensor\n",
    "    transforms.Normalize(mean=[0.485, 0.456, 0.406],  # ImageNet mean\n",
    "                         std=[0.229, 0.224, 0.225])   # ImageNet std\n",
    "])"
   ]
  },
  {
   "cell_type": "code",
   "execution_count": 17,
   "metadata": {
    "execution": {
     "iopub.execute_input": "2025-04-20T10:15:03.241866Z",
     "iopub.status.busy": "2025-04-20T10:15:03.241570Z",
     "iopub.status.idle": "2025-04-20T10:15:04.577536Z",
     "shell.execute_reply": "2025-04-20T10:15:04.576607Z",
     "shell.execute_reply.started": "2025-04-20T10:15:03.241818Z"
    },
    "trusted": true
   },
   "outputs": [],
   "source": [
    "# Load dataset\n",
    "dataset = datasets.ImageFolder(root=data_dir, transform=transform)\n",
    "\n",
    "# Prepare 5-fold cross-validation\n",
    "kf = KFold(n_splits=5, shuffle=True, random_state=42)\n",
    "\n",
    "# Results dictionary to store validation results for each fold\n",
    "results = {}\n",
    "results_train={}\n",
    "\n",
    "# Perform cross-validation and store metrics for all folds\n",
    "all_train_losses, all_val_losses = [], []\n",
    "all_train_accuracies, all_val_accuracies = [], []"
   ]
  },
  {
   "cell_type": "code",
   "execution_count": 18,
   "metadata": {
    "execution": {
     "iopub.execute_input": "2025-04-20T10:15:04.579226Z",
     "iopub.status.busy": "2025-04-20T10:15:04.578953Z",
     "iopub.status.idle": "2025-04-20T10:15:04.582510Z",
     "shell.execute_reply": "2025-04-20T10:15:04.581822Z",
     "shell.execute_reply.started": "2025-04-20T10:15:04.579205Z"
    },
    "trusted": true
   },
   "outputs": [],
   "source": [
    "# Reverse the class_to_idx mapping to get idx_to_class\n",
    "idx_to_class = {v: k for k, v in dataset.class_to_idx.items()}"
   ]
  },
  {
   "cell_type": "code",
   "execution_count": 19,
   "metadata": {
    "execution": {
     "iopub.execute_input": "2025-04-20T10:15:04.583924Z",
     "iopub.status.busy": "2025-04-20T10:15:04.583691Z",
     "iopub.status.idle": "2025-04-20T10:15:04.599881Z",
     "shell.execute_reply": "2025-04-20T10:15:04.599155Z",
     "shell.execute_reply.started": "2025-04-20T10:15:04.583904Z"
    },
    "trusted": true
   },
   "outputs": [
    {
     "name": "stdout",
     "output_type": "stream",
     "text": [
      "Number of classes: 3\n",
      "Class names: ['AD', 'CN', 'MCI']\n"
     ]
    }
   ],
   "source": [
    "print(f\"Number of classes: {len(dataset.classes)}\")\n",
    "print(f\"Class names: {dataset.classes}\")"
   ]
  },
  {
   "cell_type": "code",
   "execution_count": 20,
   "metadata": {
    "execution": {
     "iopub.execute_input": "2025-04-20T10:15:04.600955Z",
     "iopub.status.busy": "2025-04-20T10:15:04.600647Z",
     "iopub.status.idle": "2025-04-20T10:15:04.618473Z",
     "shell.execute_reply": "2025-04-20T10:15:04.617916Z",
     "shell.execute_reply.started": "2025-04-20T10:15:04.600926Z"
    },
    "trusted": true
   },
   "outputs": [
    {
     "name": "stdout",
     "output_type": "stream",
     "text": [
      "Number of images in each class: Counter({0: 1074, 1: 1005, 2: 998})\n"
     ]
    }
   ],
   "source": [
    "class_counts = Counter(dataset.targets)\n",
    "print(f\"Number of images in each class: {class_counts}\")"
   ]
  },
  {
   "cell_type": "code",
   "execution_count": null,
   "metadata": {
    "execution": {
     "iopub.execute_input": "2025-04-20T10:15:04.619342Z",
     "iopub.status.busy": "2025-04-20T10:15:04.619148Z",
     "iopub.status.idle": "2025-04-20T10:15:04.632041Z",
     "shell.execute_reply": "2025-04-20T10:15:04.631213Z",
     "shell.execute_reply.started": "2025-04-20T10:15:04.619318Z"
    },
    "trusted": true
   },
   "outputs": [],
   "source": [
    "# Define model (ViT with 3-channel input for grayscale images)\n",
    "class ViTClassifier(nn.Module):\n",
    "    def __init__(self, num_classes=3):\n",
    "        super(ViTClassifier, self).__init__()\n",
    "        # Load the pre-trained ViT model\n",
    "        self.model = vit_b_16(weights=ViT_B_16_Weights.IMAGENET1K_V1)\n",
    "        # Modify the final fully connected layer to match the number of classes\n",
    "        self.model.heads.head = nn.Linear(self.model.heads.head.in_features, num_classes)\n",
    "\n",
    "    def forward(self, x):\n",
    "        return self.model(x)"
   ]
  },
  {
   "cell_type": "code",
   "execution_count": null,
   "metadata": {
    "execution": {
     "iopub.execute_input": "2025-04-20T10:15:04.633052Z",
     "iopub.status.busy": "2025-04-20T10:15:04.632854Z",
     "iopub.status.idle": "2025-04-20T10:15:04.646126Z",
     "shell.execute_reply": "2025-04-20T10:15:04.645387Z",
     "shell.execute_reply.started": "2025-04-20T10:15:04.633024Z"
    },
    "trusted": true
   },
   "outputs": [],
   "source": [
    "# class ViTClassifier(nn.Module):\n",
    "#     def __init__(self, num_classes=3):\n",
    "#         super(ViTClassifier, self).__init__()\n",
    "#         # Load the pre-trained ViT model\n",
    "#         self.model = vit_b_16(weights=ViT_B_16_Weights.IMAGENET1K_V1)\n",
    "#         # Freeze the pre-trained layers\n",
    "#         for param in self.model.parameters():\n",
    "#             param.requires_grad = False\n",
    "#         # Replace the classification head with a custom head\n",
    "#         self.model.heads = nn.Sequential(\n",
    "#             nn.Linear(self.model.heads.head.in_features, 512),\n",
    "#             nn.ReLU(),\n",
    "#             nn.Dropout(0.5),\n",
    "#             nn.Linear(512, 256),\n",
    "#             nn.ReLU(),\n",
    "#             nn.Dropout(0.5),\n",
    "#             nn.Linear(256, num_classes)\n",
    "#         )\n",
    "\n",
    "#     def forward(self, x):\n",
    "#         return self.model(x)\n"
   ]
  },
  {
   "cell_type": "code",
   "execution_count": null,
   "metadata": {
    "execution": {
     "iopub.execute_input": "2025-04-20T10:15:04.646993Z",
     "iopub.status.busy": "2025-04-20T10:15:04.646740Z",
     "iopub.status.idle": "2025-04-20T11:04:05.531965Z",
     "shell.execute_reply": "2025-04-20T11:04:05.530818Z",
     "shell.execute_reply.started": "2025-04-20T10:15:04.646973Z"
    },
    "trusted": true
   },
   "outputs": [],
   "source": [
    "# early stopping criteria\n",
    "patience = 5 # Number of epochs to wait for improvement\n",
    "\n",
    "screen_width = 80\n",
    "for fold_idx, (train_idx, val_idx) in enumerate(kf.split(dataset)):\n",
    "    # Create the fold header with \"--\" padding\n",
    "    fold_header = f\" Fold {fold_idx+1}/{kf.n_splits} \"\n",
    "    padding = (screen_width - len(fold_header)) // 2\n",
    "    print(f\"{'-' * padding}{fold_header}{'-' * padding}\")\n",
    "    \n",
    "    # Split dataset into train and validation sets based on indices\n",
    "    train_subset = torch.utils.data.Subset(dataset, train_idx)\n",
    "    val_subset = torch.utils.data.Subset(dataset, val_idx)\n",
    "    \n",
    "    train_loader = torch.utils.data.DataLoader(train_subset, batch_size=batch_size, shuffle=True)\n",
    "    val_loader = torch.utils.data.DataLoader(val_subset, batch_size=batch_size, shuffle=False)\n",
    "\n",
    "    model = ViTClassifier(num_classes=3).to(device)\n",
    "    # Move the model to the GPU\n",
    "    model = model.to(device)\n",
    "        \n",
    "    criterion = nn.CrossEntropyLoss()\n",
    "    \n",
    "    # Use SGD optimizer with momentum\n",
    "    # optimizer = optim.SGD(model.parameters(), lr=learning_rate, momentum=0.9, weight_decay=1e-4)\n",
    "    optimizer = optim.Adam(model.parameters(), lr=learning_rate)\n",
    "\n",
    "    # Add a ReduceLROnPlateau scheduler\n",
    "    # scheduler = ReduceLROnPlateau(optimizer, mode='min', factor=0.5, patience=3)\n",
    "    \n",
    "    # # Add StepLR scheduler - reduces learning rate by a factor of 0.1 every 5 epochs\n",
    "    scheduler = StepLR(optimizer, step_size=3, gamma=0.1)\n",
    "\n",
    "    # Early stopping parameters\n",
    "    best_val_loss = float('inf')  # Initialize best validation loss\n",
    "    epochs_without_improvement = 0  # Counter for epochs without improvement\n",
    "\n",
    "    # Store metrics for plotting later\n",
    "    train_losses, val_losses = [], []\n",
    "    train_accuracies, val_accuracies = [], []\n",
    "    \n",
    "    for epoch in range(num_epochs):\n",
    "        print(f\"Epoch {epoch+1}/{num_epochs}\")\n",
    "        \n",
    "        # Training phase with tqdm progress bar\n",
    "        model.train()\n",
    "        running_loss, correct_preds, total_samples = 0.0, 0, 0\n",
    "        \n",
    "        train_loader_tqdm = tqdm(train_loader, desc=\"Training\", leave=False)\n",
    "        for inputs, labels in train_loader_tqdm:\n",
    "            inputs, labels = inputs.to(device), labels.to(device)\n",
    "            \n",
    "            optimizer.zero_grad()\n",
    "            outputs = model(inputs)\n",
    "            loss = criterion(outputs, labels)\n",
    "            loss.backward()\n",
    "            optimizer.step()\n",
    "            \n",
    "            running_loss += loss.item() * inputs.size(0)\n",
    "            _, preds = torch.max(outputs, 1)\n",
    "            correct_preds += (preds == labels).sum().item()\n",
    "            total_samples += labels.size(0)\n",
    "        \n",
    "        epoch_train_loss = running_loss / total_samples\n",
    "        epoch_train_acc = correct_preds / total_samples\n",
    "        \n",
    "        train_losses.append(epoch_train_loss)\n",
    "        train_accuracies.append(epoch_train_acc)\n",
    "\n",
    "        print(f\"Train Loss: {epoch_train_loss:.4f}, Train Accuracy: {epoch_train_acc:.4f}\")\n",
    "      \n",
    "        # Validation phase with tqdm progress bar\n",
    "        model.eval()\n",
    "        all_preds = []\n",
    "        all_labels = [] \n",
    "        running_loss, correct_preds, total_samples = 0.0, 0, 0\n",
    "        \n",
    "        val_loader_tqdm = tqdm(val_loader, desc=\"Validation\", leave=False)\n",
    "        with torch.no_grad():\n",
    "            for inputs, labels in val_loader_tqdm:\n",
    "                inputs, labels = inputs.to(device), labels.to(device)\n",
    "                \n",
    "                outputs = model(inputs)\n",
    "                loss = criterion(outputs, labels)\n",
    "            \n",
    "                running_loss += loss.item() * inputs.size(0)\n",
    "                _, preds = torch.max(outputs, 1)\n",
    "                \n",
    "                correct_preds += (preds == labels).sum().item()\n",
    "                total_samples += labels.size(0)\n",
    "\n",
    "                all_labels.extend(labels.cpu().numpy())\n",
    "                all_preds.extend(preds.cpu().numpy())\n",
    "                \n",
    "        # Check if it's the last epoch\n",
    "        if epoch == num_epochs - 1:\n",
    "            \n",
    "            # Convert numeric predictions and labels to class names\n",
    "            all_labels_names = [idx_to_class[label] for label in all_labels]\n",
    "            all_predictions_names = [idx_to_class[pred] for pred in all_preds]\n",
    "\n",
    "            # Calculate confusion matrix\n",
    "            conf_matrix = confusion_matrix(all_labels, all_preds)\n",
    "\n",
    "            # Create a DataFrame for better visualization\n",
    "            conf_matrix_df = pd.DataFrame(\n",
    "                conf_matrix,\n",
    "                index=[f\"True: {label}\" for label in dataset.classes],  # True labels\n",
    "                columns=[f\"Pred: {label}\" for label in dataset.classes]  # Predicted labels\n",
    "            )\n",
    "\n",
    "            # Print metrics\n",
    "            print(\"\\nConfusion Matrix:\")\n",
    "            print(conf_matrix_df)\n",
    "\n",
    "            # Print detailed classification report\n",
    "            print(classification_report(all_labels, all_preds, target_names=dataset.classes))\n",
    "        \n",
    "        epoch_val_loss = running_loss / total_samples\n",
    "        epoch_val_acc = correct_preds / total_samples\n",
    "        \n",
    "        val_losses.append(epoch_val_loss)\n",
    "        val_accuracies.append(epoch_val_acc)\n",
    "\n",
    "        print(f\"Val Loss: {epoch_val_loss:.4f}, Val Accuracy: {epoch_val_acc:.4f}\")\n",
    "        # scheduler.step(epoch_val_loss)\n",
    "\n",
    "        # Step the scheduler to update learning rate\n",
    "        scheduler.step()\n",
    "\n",
    "        # Log the updated learning rate\n",
    "        current_lr = scheduler.get_last_lr()\n",
    "        print(f\"Epoch {epoch+1}: Current Learning Rate: {current_lr}\")\n",
    "\n",
    "        # Early stopping logic\n",
    "        if epoch_val_loss < best_val_loss:\n",
    "            best_val_loss = epoch_val_loss\n",
    "            epochs_without_improvement = 0  # Reset counter\n",
    "            print(\"Validation loss improved. \")\n",
    "            # print(\"Saving Model...\")\n",
    "            # torch.save(model.state_dict(), f\"best_model_fold_{fold_idx+1}.pth\")  # Save the best model\n",
    "        else:\n",
    "            epochs_without_improvement += 1\n",
    "            print(f\"No improvement in validation loss for {epochs_without_improvement} epoch(s).\")\n",
    "\n",
    "        if epochs_without_improvement >= patience:\n",
    "            print(\"Early stopping triggered.\")\n",
    "\n",
    "            # Convert numeric predictions and labels to class names\n",
    "            all_labels_names = [idx_to_class[label] for label in all_labels]\n",
    "            all_predictions_names = [idx_to_class[pred] for pred in all_preds]\n",
    "\n",
    "            # Calculate confusion matrix\n",
    "            conf_matrix = confusion_matrix(all_labels, all_preds)\n",
    "\n",
    "            # Create a DataFrame for better visualization\n",
    "            conf_matrix_df = pd.DataFrame(\n",
    "                conf_matrix,\n",
    "                index=[f\"True: {label}\" for label in dataset.classes],  # True labels\n",
    "                columns=[f\"Pred: {label}\" for label in dataset.classes]  # Predicted labels\n",
    "            )\n",
    "\n",
    "            # Print metrics\n",
    "            print(\"\\nConfusion Matrix:\")\n",
    "            print(conf_matrix_df)\n",
    "\n",
    "            # Print detailed classification report\n",
    "            print(classification_report(all_labels, all_preds, target_names=dataset.classes))\n",
    "\n",
    "            break\n",
    "\n",
    "    all_train_losses.append(train_losses)\n",
    "    all_val_losses.append(val_losses)\n",
    "    all_train_accuracies.append(train_accuracies)\n",
    "    all_val_accuracies.append(val_accuracies)\n",
    "\n",
    "    # Store validation accuracy of this fold in the results dictionary\n",
    "    results[f\"Fold {fold_idx+1}\"] = epoch_val_acc\n",
    "    results_train[f\"Fold {fold_idx+1}\"] = epoch_train_acc"
   ]
  },
  {
   "cell_type": "code",
   "execution_count": 24,
   "metadata": {
    "execution": {
     "iopub.execute_input": "2025-04-20T11:04:05.534929Z",
     "iopub.status.busy": "2025-04-20T11:04:05.534690Z",
     "iopub.status.idle": "2025-04-20T11:04:05.538191Z",
     "shell.execute_reply": "2025-04-20T11:04:05.537442Z",
     "shell.execute_reply.started": "2025-04-20T11:04:05.534910Z"
    },
    "trusted": true
   },
   "outputs": [],
   "source": [
    "# torch.save(model.state_dict(), \"/kaggle/working/ViTmodel.pth\")"
   ]
  },
  {
   "cell_type": "code",
   "execution_count": 25,
   "metadata": {
    "execution": {
     "iopub.execute_input": "2025-04-20T11:04:05.539553Z",
     "iopub.status.busy": "2025-04-20T11:04:05.539344Z",
     "iopub.status.idle": "2025-04-20T11:04:05.556701Z",
     "shell.execute_reply": "2025-04-20T11:04:05.555900Z",
     "shell.execute_reply.started": "2025-04-20T11:04:05.539533Z"
    },
    "trusted": true
   },
   "outputs": [
    {
     "name": "stdout",
     "output_type": "stream",
     "text": [
      "\n",
      "Validation Results:\n",
      "Fold 1: 0.6380\n",
      "Fold 2: 0.5812\n",
      "Fold 3: 0.5821\n",
      "Fold 4: 0.6797\n",
      "Fold 5: 0.6374\n",
      "Average Validation Accuracy: 0.6237\n"
     ]
    }
   ],
   "source": [
    "# Calculate average accuracy across all folds\n",
    "average_accuracy = np.mean(list(results.values()))\n",
    "\n",
    "# Print results for each fold and average accuracy\n",
    "print(\"\\nValidation Results:\")\n",
    "for fold_name, accuracy in results.items():\n",
    "    print(f\"{fold_name}: {accuracy:.4f}\")\n",
    "print(f\"Average Validation Accuracy: {average_accuracy:.4f}\")"
   ]
  },
  {
   "cell_type": "code",
   "execution_count": 26,
   "metadata": {
    "execution": {
     "iopub.execute_input": "2025-04-20T11:04:05.557962Z",
     "iopub.status.busy": "2025-04-20T11:04:05.557639Z",
     "iopub.status.idle": "2025-04-20T11:04:05.572651Z",
     "shell.execute_reply": "2025-04-20T11:04:05.572031Z",
     "shell.execute_reply.started": "2025-04-20T11:04:05.557931Z"
    },
    "trusted": true
   },
   "outputs": [
    {
     "name": "stdout",
     "output_type": "stream",
     "text": [
      "\n",
      "Train Results:\n",
      "Fold 1: 0.6526\n",
      "Fold 2: 0.6664\n",
      "Fold 3: 0.6470\n",
      "Fold 4: 0.6592\n",
      "Fold 5: 0.6483\n",
      "Average Train Accuracy: 0.6547\n"
     ]
    }
   ],
   "source": [
    "# Calculate average accuracy across all folds\n",
    "average_train_accuracy = np.mean(list(results_train.values()))\n",
    "\n",
    "# Print results for each fold and average accuracy\n",
    "print(\"\\nTrain Results:\")\n",
    "for fold_name, accuracy in results_train.items():\n",
    "    print(f\"{fold_name}: {accuracy:.4f}\")\n",
    "print(f\"Average Train Accuracy: {average_train_accuracy:.4f}\")"
   ]
  },
  {
   "cell_type": "markdown",
   "metadata": {},
   "source": [
    "# Train on Entire Dataset and Save the Model"
   ]
  },
  {
   "cell_type": "code",
   "execution_count": null,
   "metadata": {
    "execution": {
     "iopub.execute_input": "2025-04-20T11:04:05.573689Z",
     "iopub.status.busy": "2025-04-20T11:04:05.573436Z",
     "iopub.status.idle": "2025-04-20T11:04:05.584924Z",
     "shell.execute_reply": "2025-04-20T11:04:05.584181Z",
     "shell.execute_reply.started": "2025-04-20T11:04:05.573669Z"
    },
    "trusted": true
   },
   "outputs": [],
   "source": [
    "# data_dir = \"/kaggle/input/t1-augmented-testcases-removed/T1_augmented_hflip - Test Cases Removed\"\n",
    "# batch_size = 16\n",
    "# num_epochs = 30\n",
    "# learning_rate = 0.0001  # Learning rate parameter"
   ]
  },
  {
   "cell_type": "code",
   "execution_count": null,
   "metadata": {
    "execution": {
     "iopub.execute_input": "2025-04-20T11:04:05.585905Z",
     "iopub.status.busy": "2025-04-20T11:04:05.585676Z",
     "iopub.status.idle": "2025-04-20T11:04:05.617746Z",
     "shell.execute_reply": "2025-04-20T11:04:05.616954Z",
     "shell.execute_reply.started": "2025-04-20T11:04:05.585885Z"
    },
    "trusted": true
   },
   "outputs": [],
   "source": [
    "# # Instantiate full dataset again\n",
    "# full_dataset = datasets.ImageFolder(root=data_dir, transform=transform)\n",
    "# full_loader = DataLoader(full_dataset, batch_size=batch_size, shuffle=True)"
   ]
  },
  {
   "cell_type": "code",
   "execution_count": null,
   "metadata": {
    "execution": {
     "iopub.execute_input": "2025-04-20T11:04:05.619019Z",
     "iopub.status.busy": "2025-04-20T11:04:05.618697Z",
     "iopub.status.idle": "2025-04-20T11:04:06.698646Z",
     "shell.execute_reply": "2025-04-20T11:04:06.697751Z",
     "shell.execute_reply.started": "2025-04-20T11:04:05.618989Z"
    },
    "trusted": true
   },
   "outputs": [],
   "source": [
    "# final_model = ViTClassifier(num_classes=3).to(device)"
   ]
  },
  {
   "cell_type": "code",
   "execution_count": null,
   "metadata": {
    "execution": {
     "iopub.execute_input": "2025-04-20T11:04:06.699750Z",
     "iopub.status.busy": "2025-04-20T11:04:06.699502Z",
     "iopub.status.idle": "2025-04-20T11:04:06.704297Z",
     "shell.execute_reply": "2025-04-20T11:04:06.703434Z",
     "shell.execute_reply.started": "2025-04-20T11:04:06.699720Z"
    },
    "trusted": true
   },
   "outputs": [],
   "source": [
    "# # Set up optimizer and loss\n",
    "# criterion = nn.CrossEntropyLoss()\n",
    "# optimizer = optim.Adam(final_model.parameters(), lr=learning_rate)"
   ]
  },
  {
   "cell_type": "code",
   "execution_count": 31,
   "metadata": {
    "execution": {
     "iopub.execute_input": "2025-04-20T11:04:06.705300Z",
     "iopub.status.busy": "2025-04-20T11:04:06.705065Z",
     "iopub.status.idle": "2025-04-20T11:04:06.718863Z",
     "shell.execute_reply": "2025-04-20T11:04:06.718277Z",
     "shell.execute_reply.started": "2025-04-20T11:04:06.705280Z"
    },
    "trusted": true
   },
   "outputs": [],
   "source": [
    "# Initialize the StepLR scheduler\n",
    "# scheduler = StepLR(optimizer, step_size=3, gamma=0.1)  # Reduces LR by a factor of 0.1 every 10 epochs"
   ]
  },
  {
   "cell_type": "code",
   "execution_count": null,
   "metadata": {
    "execution": {
     "iopub.execute_input": "2025-04-20T11:04:06.719952Z",
     "iopub.status.busy": "2025-04-20T11:04:06.719655Z",
     "iopub.status.idle": "2025-04-20T11:14:37.800867Z",
     "shell.execute_reply": "2025-04-20T11:14:37.800149Z",
     "shell.execute_reply.started": "2025-04-20T11:04:06.719922Z"
    },
    "trusted": true
   },
   "outputs": [
    {
     "name": "stderr",
     "output_type": "stream",
     "text": [
      "                                                                                   \r"
     ]
    },
    {
     "name": "stdout",
     "output_type": "stream",
     "text": [
      "Epoch 1: Loss = 1.075899, Accuracy = 40.7540%, LR = 0.000100000000000\n"
     ]
    },
    {
     "name": "stderr",
     "output_type": "stream",
     "text": [
      "                                                                                   \r"
     ]
    },
    {
     "name": "stdout",
     "output_type": "stream",
     "text": [
      "Epoch 2: Loss = 1.038421, Accuracy = 45.7914%, LR = 0.000100000000000\n"
     ]
    },
    {
     "name": "stderr",
     "output_type": "stream",
     "text": [
      "                                                                                   \r"
     ]
    },
    {
     "name": "stdout",
     "output_type": "stream",
     "text": [
      "Epoch 3: Loss = 1.021553, Accuracy = 46.8313%, LR = 0.000100000000000\n"
     ]
    },
    {
     "name": "stderr",
     "output_type": "stream",
     "text": [
      "                                                                                   \r"
     ]
    },
    {
     "name": "stdout",
     "output_type": "stream",
     "text": [
      "Epoch 4: Loss = 1.006558, Accuracy = 49.0738%, LR = 0.000100000000000\n"
     ]
    },
    {
     "name": "stderr",
     "output_type": "stream",
     "text": [
      "                                                                                   \r"
     ]
    },
    {
     "name": "stdout",
     "output_type": "stream",
     "text": [
      "Epoch 5: Loss = 0.987804, Accuracy = 51.6412%, LR = 0.000100000000000\n"
     ]
    },
    {
     "name": "stderr",
     "output_type": "stream",
     "text": [
      "                                                                                   \r"
     ]
    },
    {
     "name": "stdout",
     "output_type": "stream",
     "text": [
      "Epoch 6: Loss = 0.968808, Accuracy = 51.9337%, LR = 0.000100000000000\n"
     ]
    },
    {
     "name": "stderr",
     "output_type": "stream",
     "text": [
      "                                                                                   \r"
     ]
    },
    {
     "name": "stdout",
     "output_type": "stream",
     "text": [
      "Epoch 7: Loss = 0.940862, Accuracy = 54.5661%, LR = 0.000100000000000\n"
     ]
    },
    {
     "name": "stderr",
     "output_type": "stream",
     "text": [
      "                                                                                   \r"
     ]
    },
    {
     "name": "stdout",
     "output_type": "stream",
     "text": [
      "Epoch 8: Loss = 0.925815, Accuracy = 56.8411%, LR = 0.000100000000000\n"
     ]
    },
    {
     "name": "stderr",
     "output_type": "stream",
     "text": [
      "                                                                                   \r"
     ]
    },
    {
     "name": "stdout",
     "output_type": "stream",
     "text": [
      "Epoch 9: Loss = 0.901555, Accuracy = 57.8486%, LR = 0.000100000000000\n"
     ]
    },
    {
     "name": "stderr",
     "output_type": "stream",
     "text": [
      "                                                                                    \r"
     ]
    },
    {
     "name": "stdout",
     "output_type": "stream",
     "text": [
      "Epoch 10: Loss = 0.864301, Accuracy = 60.9685%, LR = 0.000100000000000\n"
     ]
    },
    {
     "name": "stderr",
     "output_type": "stream",
     "text": [
      "                                                                                    \r"
     ]
    },
    {
     "name": "stdout",
     "output_type": "stream",
     "text": [
      "Epoch 11: Loss = 0.847324, Accuracy = 61.5210%, LR = 0.000100000000000\n"
     ]
    },
    {
     "name": "stderr",
     "output_type": "stream",
     "text": [
      "                                                                                    \r"
     ]
    },
    {
     "name": "stdout",
     "output_type": "stream",
     "text": [
      "Epoch 12: Loss = 0.815477, Accuracy = 63.6009%, LR = 0.000100000000000\n"
     ]
    },
    {
     "name": "stderr",
     "output_type": "stream",
     "text": [
      "                                                                                    \r"
     ]
    },
    {
     "name": "stdout",
     "output_type": "stream",
     "text": [
      "Epoch 13: Loss = 0.781264, Accuracy = 66.1033%, LR = 0.000100000000000\n"
     ]
    },
    {
     "name": "stderr",
     "output_type": "stream",
     "text": [
      "                                                                                    \r"
     ]
    },
    {
     "name": "stdout",
     "output_type": "stream",
     "text": [
      "Epoch 14: Loss = 0.756522, Accuracy = 66.4608%, LR = 0.000100000000000\n"
     ]
    },
    {
     "name": "stderr",
     "output_type": "stream",
     "text": [
      "                                                                                    "
     ]
    },
    {
     "name": "stdout",
     "output_type": "stream",
     "text": [
      "Epoch 15: Loss = 0.720296, Accuracy = 69.4833%, LR = 0.000100000000000\n"
     ]
    },
    {
     "name": "stderr",
     "output_type": "stream",
     "text": [
      "\r"
     ]
    }
   ],
   "source": [
    "# # Training loop\n",
    "# final_model.train()\n",
    "# for epoch in range(num_epochs):\n",
    "#     running_loss, correct, total = 0.0, 0, 0\n",
    "#     loop = tqdm(full_loader, desc=f\"Epoch {epoch+1}/{num_epochs}\", leave=False)\n",
    "#     for images, labels in loop:\n",
    "#         images, labels = images.to(device), labels.to(device)\n",
    "#         optimizer.zero_grad()\n",
    "#         outputs = final_model(images)\n",
    "#         loss = criterion(outputs, labels)\n",
    "#         loss.backward()\n",
    "#         optimizer.step()\n",
    "\n",
    "#         running_loss += loss.item()\n",
    "#         _, preds = torch.max(outputs, 1)\n",
    "#         correct += (preds == labels).sum().item()\n",
    "#         total += labels.size(0)\n",
    "#         loop.set_postfix(loss=loss.item(), acc=100. * correct / total)\n",
    "\n",
    "#     # print(f\"Epoch {epoch+1}: Loss = {running_loss / len(full_loader):.6f}, Accuracy = {100. * correct / total:.4f}%\")\n",
    "\n",
    "#     # Step the scheduler at the end of each epoch\n",
    "#     # scheduler.step()\n",
    "\n",
    "#     # Optionally, print the current learning rate\n",
    "#     current_lr = optimizer.param_groups[0]['lr']\n",
    "#     print(f\"Epoch {epoch+1}: Loss = {running_loss / len(full_loader):.6f}, \"\n",
    "#           f\"Accuracy = {100. * correct / total:.4f}%, LR = {current_lr:.15f}\")"
   ]
  },
  {
   "cell_type": "code",
   "execution_count": null,
   "metadata": {
    "execution": {
     "iopub.execute_input": "2025-04-20T11:14:37.801886Z",
     "iopub.status.busy": "2025-04-20T11:14:37.801595Z",
     "iopub.status.idle": "2025-04-20T11:14:38.231822Z",
     "shell.execute_reply": "2025-04-20T11:14:38.231101Z",
     "shell.execute_reply.started": "2025-04-20T11:14:37.801853Z"
    },
    "trusted": true
   },
   "outputs": [
    {
     "name": "stdout",
     "output_type": "stream",
     "text": [
      "Model trained on full dataset and saved as vit_final_model.pth ✅\n"
     ]
    }
   ],
   "source": [
    "# # Save the trained model\n",
    "# torch.save(final_model.state_dict(), \"vit_final_model_freezed_layers_modified_layers.pth\")\n",
    "# print(\"Model trained on full dataset and saved as vit_final_model.pth ✅\")"
   ]
  }
 ],
 "metadata": {
  "kaggle": {
   "accelerator": "gpu",
   "dataSources": [
    {
     "datasetId": 6983313,
     "sourceId": 11186743,
     "sourceType": "datasetVersion"
    },
    {
     "datasetId": 7022152,
     "sourceId": 11239812,
     "sourceType": "datasetVersion"
    },
    {
     "datasetId": 7056226,
     "sourceId": 11285642,
     "sourceType": "datasetVersion"
    },
    {
     "datasetId": 7057592,
     "sourceId": 11287606,
     "sourceType": "datasetVersion"
    }
   ],
   "dockerImageVersionId": 30919,
   "isGpuEnabled": true,
   "isInternetEnabled": true,
   "language": "python",
   "sourceType": "notebook"
  },
  "kernelspec": {
   "display_name": ".venv",
   "language": "python",
   "name": "python3"
  },
  "language_info": {
   "codemirror_mode": {
    "name": "ipython",
    "version": 3
   },
   "file_extension": ".py",
   "mimetype": "text/x-python",
   "name": "python",
   "nbconvert_exporter": "python",
   "pygments_lexer": "ipython3",
   "version": "3.13.1"
  }
 },
 "nbformat": 4,
 "nbformat_minor": 4
}
